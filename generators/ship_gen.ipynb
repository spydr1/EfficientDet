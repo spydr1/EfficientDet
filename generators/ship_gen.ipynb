{
 "cells": [
  {
   "cell_type": "code",
   "execution_count": 15,
   "metadata": {},
   "outputs": [],
   "source": [
    "import sys\n",
    "sys.path.append('../')\n",
    "from ship import ShipGenerator\n",
    "import tensorflow as tf\n",
    "import numpy as np"
   ]
  },
  {
   "cell_type": "code",
   "execution_count": 29,
   "metadata": {},
   "outputs": [
    {
     "ename": "AttributeError",
     "evalue": "'TensorBoard' object has no attribute 'writer'",
     "output_type": "error",
     "traceback": [
      "\u001b[0;31m---------------------------------------------------------------------------\u001b[0m",
      "\u001b[0;31mAttributeError\u001b[0m                            Traceback (most recent call last)",
      "\u001b[0;32m<ipython-input-29-999b84d4d7de>\u001b[0m in \u001b[0;36m<module>\u001b[0;34m\u001b[0m\n\u001b[1;32m     10\u001b[0m             \u001b[0membeddings_metadata\u001b[0m\u001b[0;34m=\u001b[0m\u001b[0;32mNone\u001b[0m\u001b[0;34m\u001b[0m\u001b[0m\n\u001b[1;32m     11\u001b[0m         )\n\u001b[0;32m---> 12\u001b[0;31m \u001b[0mtensorboard_callback\u001b[0m\u001b[0;34m.\u001b[0m\u001b[0mwriter\u001b[0m\u001b[0;34m.\u001b[0m\u001b[0madd_summary\u001b[0m\u001b[0;34m(\u001b[0m\u001b[0;34m)\u001b[0m\u001b[0;34m\u001b[0m\u001b[0m\n\u001b[0m",
      "\u001b[0;31mAttributeError\u001b[0m: 'TensorBoard' object has no attribute 'writer'"
     ]
    }
   ],
   "source": [
    "tensorboard_callback = tf.compat.v1.keras.callbacks.TensorBoard(\n",
    "            log_dir='./',\n",
    "            histogram_freq=0,\n",
    "            batch_size=1,\n",
    "            write_graph=True,\n",
    "            write_grads=False,\n",
    "            write_images=False,\n",
    "            embeddings_freq=0,\n",
    "            embeddings_layer_names=None,\n",
    "            embeddings_metadata=None\n",
    "        )\n",
    "tensorboard_callback"
   ]
  },
  {
   "cell_type": "code",
   "execution_count": 2,
   "metadata": {},
   "outputs": [],
   "source": [
    "file_dir='/home/minjun/Jupyter/Ship_Detection/Data/train_tfrecorder/train_data.tfrecords'\n",
    "train_generator = ShipGenerator(\n",
    "        'train/ship_detection',\n",
    "        file_dir,\n",
    "        gen_type = 'train',\n",
    "        ratio = 0.5,\n",
    "        phi=1,\n",
    "        batch_size=1,\n",
    "        detect_ship =True,\n",
    "        detect_quadrangle=True)\n"
   ]
  },
  {
   "cell_type": "code",
   "execution_count": 3,
   "metadata": {},
   "outputs": [],
   "source": [
    "common_args = {\n",
    "    'batch_size': 1,\n",
    "    'phi': 1,\n",
    "    'detect_text': False,\n",
    "    'detect_ship': True,\n",
    "    'detect_quadrangle': True\n",
    "}\n",
    "\n",
    "validation_generator = ShipGenerator(\n",
    "            'val/ship_detection',\n",
    "            file_dir,\n",
    "            gen_type='val',\n",
    "            ratio = 1-0.8,\n",
    "            shuffle_groups=False,\n",
    "            **common_args\n",
    "        )"
   ]
  },
  {
   "cell_type": "code",
   "execution_count": 12,
   "metadata": {},
   "outputs": [
    {
     "name": "stdout",
     "output_type": "stream",
     "text": [
      "{'quadrangles': array([[[350.66564941, 546.82177734],\n",
      "        [593.59960938, 558.33520508],\n",
      "        [591.27545166, 607.37536621],\n",
      "        [348.3414917 , 595.86193848]],\n",
      "\n",
      "       [[299.03234863, 609.8137207 ],\n",
      "        [451.14019775, 617.02258301],\n",
      "        [449.68725586, 640.        ],\n",
      "        [297.57943726, 640.        ]],\n",
      "\n",
      "       [[453.2802124 , 425.8343811 ],\n",
      "        [552.16595459, 538.44677734],\n",
      "        [525.56939697, 561.8013916 ],\n",
      "        [426.6836853 , 449.18899536]]]), 'bboxes': array([[348.3415 , 546.8218 , 593.5996 , 607.37537],\n",
      "       [297.57944, 609.8137 , 451.1402 , 640.     ],\n",
      "       [426.6837 , 425.83438, 552.16595, 561.8014 ]], dtype=float32), 'labels': array([4, 4, 4])}\n",
      "float64\n"
     ]
    }
   ],
   "source": [
    "print(train_generator.load_annotations(0))\n",
    "print(train_generator.load_annotations(0)['quadrangles'].astype(np.double).dtype)"
   ]
  },
  {
   "cell_type": "code",
   "execution_count": 13,
   "metadata": {},
   "outputs": [
    {
     "data": {
      "text/plain": [
       "array([[1.        , 0.        , 0.06635203],\n",
       "       [0.        , 1.        , 0.        ],\n",
       "       [0.06635203, 0.        , 1.        ]])"
      ]
     },
     "execution_count": 13,
     "metadata": {},
     "output_type": "execute_result"
    }
   ],
   "source": [
    "from utils.compute_overlap import compute_overlap\n",
    "compute_overlap(train_generator.load_annotations(0)['bboxes'].astype(np.double),train_generator.load_annotations(0)['bboxes'].astype(np.double))"
   ]
  },
  {
   "cell_type": "code",
   "execution_count": null,
   "metadata": {},
   "outputs": [],
   "source": [
    "validation_generator.size()"
   ]
  },
  {
   "cell_type": "code",
   "execution_count": null,
   "metadata": {},
   "outputs": [],
   "source": [
    "from tensorflow.python.client import device_lib\n",
    "print(device_lib.list_local_devices())\n"
   ]
  },
  {
   "cell_type": "code",
   "execution_count": null,
   "metadata": {},
   "outputs": [],
   "source": [
    "tf.test.is_gpu_available(train_generator.load_annotations(0)['bboxes'],train_generator.load_annotations(0)['bboxes'])"
   ]
  },
  {
   "cell_type": "code",
   "execution_count": null,
   "metadata": {},
   "outputs": [],
   "source": [
    "from matplotlib.patches import Polygon,Rectangle\n",
    "import colorsys\n",
    "import random\n",
    "import matplotlib.pyplot as plt\n",
    "def random_colors(N, bright=True):\n",
    "    \"\"\"\n",
    "    Generate random colors.\n",
    "    To get visually distinct colors, generate them in HSV space then\n",
    "    convert to RGB.\n",
    "    \"\"\"\n",
    "    brightness = 1.0 if bright else 0.7\n",
    "    hsv = [(i / N, 1, brightness) for i in range(N)]\n",
    "    colors = list(map(lambda c: colorsys.hsv_to_rgb(*c), hsv))\n",
    "    random.shuffle(colors)\n",
    "    return colors\n",
    "    \n",
    "def visualize(image, boxes,figsize=(16, 16),box_type='rect'):\n",
    "        \"\"\"\n",
    "        desc : bbox와 함께 이미지를 그린다.\n",
    "        \n",
    "        -input-\n",
    "        image_id : 시각화 하기를 원하는 이미지 인덱스 번호\n",
    "        figsize : 이미지 크기\n",
    "        \"\"\"   \n",
    "        fig, ax = plt.subplots(1, figsize=figsize)\n",
    "        char_boxes=boxes\n",
    "        char_len=len(char_boxes)\n",
    "        colors = random_colors(char_len)\n",
    "        print (\"box channel : \", np.shape(boxes)[1])\n",
    "        for i in range(char_len):\n",
    "            color = colors[i]\n",
    "        # Bounding box\n",
    "            if not np.any(char_boxes[i]):\n",
    "                # Skip this instance. Has no bbox. Likely lost in image cropping.\n",
    "                continue\n",
    "            \n",
    "            if box_type == 'rect':\n",
    "                if np.shape(boxes)[1] == 4 and len(np.shape(boxes))==3 : # 4 - vertex \n",
    "                    box = char_boxes[i]\n",
    "                    y_max = max(box[0, 1], box[1, 1], box[2, 1], box[3, 1])\n",
    "                    y_min = min(box[0, 1], box[1, 1], box[2, 1], box[3, 1])\n",
    "                    x_max = max(box[0, 0], box[1, 0], box[2, 0], box[3, 0])\n",
    "                    x_min = min(box[0, 0], box[1, 0], box[2, 0], box[3, 0])\n",
    "\n",
    "                else : # 2 - vertex \n",
    "                    box = char_boxes[i]\n",
    "                    y_max = max(box[1], box[3])\n",
    "                    y_min = min(box[1], box[3])\n",
    "                    x_max = max(box[0], box[2])\n",
    "                    x_min = min(box[0], box[2])            \n",
    "                width = (x_max-x_min)\n",
    "                height = (y_max-y_min)\n",
    "                print(width,height,x_min,y_min)\n",
    "                p = Rectangle((x_min,y_min), width, height, linewidth=2,\n",
    "                                      edgecolor=color, facecolor='none')\n",
    "            elif box_type == 'quad': \n",
    "                p = Polygon(char_boxes[i], facecolor=\"none\", edgecolor=color)\n",
    "            else : \n",
    "                raise (\"check the box_type\")\n",
    "                \n",
    "            ax.add_patch(p)\n",
    "        ax.imshow(image)\n",
    "        "
   ]
  },
  {
   "cell_type": "markdown",
   "metadata": {},
   "source": [
    "## load_image, load_annotations 확인 "
   ]
  },
  {
   "cell_type": "code",
   "execution_count": null,
   "metadata": {},
   "outputs": [],
   "source": [
    "image = train_generator.load_image(0)\n",
    "bboxes = train_generator.load_annotations(0)['bboxes']\n",
    "print(bboxes[0,1])\n",
    "visualize(image,bboxes)"
   ]
  },
  {
   "cell_type": "markdown",
   "metadata": {},
   "source": [
    "## annotation 확인 및 시각화 "
   ]
  },
  {
   "cell_type": "code",
   "execution_count": null,
   "metadata": {},
   "outputs": [],
   "source": [
    "image = train_generator.load_image(0)\n",
    "quadboxes = train_generator.load_annotations(0)['quadrangles']\n",
    "visualize(image,quadboxes,box_type='quad')"
   ]
  },
  {
   "cell_type": "code",
   "execution_count": null,
   "metadata": {},
   "outputs": [],
   "source": []
  },
  {
   "cell_type": "code",
   "execution_count": null,
   "metadata": {},
   "outputs": [],
   "source": [
    "if __name__ == '__main__':\n",
    "    train_generator = ShipGenerator(\n",
    "        'datasets/ship_detection',\n",
    "        'train',\n",
    "        phi=1,\n",
    "        batch_size=1,\n",
    "        detect_ship =True\n",
    "    )\n",
    "    mean = [0.485, 0.456, 0.406]\n",
    "    std = [0.229, 0.224, 0.225]\n",
    "    anchors = train_generator.anchors\n",
    "    batch_inputs, batch_targets = train_generator[0]\n",
    "    image = batch_inputs[0][0]\n",
    "    image[..., 0] *= std[0]\n",
    "    image[..., 1] *= std[1]\n",
    "    image[..., 2] *= std[2]\n",
    "    image[..., 0] += mean[0]\n",
    "    image[..., 1] += mean[1]\n",
    "    image[..., 2] += mean[2]\n",
    "    image *= 255.\n",
    "\n",
    "    regression = batch_targets[0][0]\n",
    "    valid_ids = np.where(regression[:, -1] == 1)[0]\n",
    "    boxes = anchors[valid_ids]\n",
    "    deltas = regression[valid_ids]\n",
    "    class_ids = np.argmax(batch_targets[1][0][valid_ids], axis=-1)\n",
    "    mean_ = [0, 0, 0, 0]\n",
    "    std_ = [0.2, 0.2, 0.2, 0.2]\n",
    "\n",
    "    width = boxes[:, 2] - boxes[:, 0]\n",
    "    height = boxes[:, 3] - boxes[:, 1]\n",
    "\n",
    "    x1 = boxes[:, 0] + (deltas[:, 0] * std_[0] + mean_[0]) * width\n",
    "    y1 = boxes[:, 1] + (deltas[:, 1] * std_[1] + mean_[1]) * height\n",
    "    x2 = boxes[:, 2] + (deltas[:, 2] * std_[2] + mean_[2]) * width\n",
    "    y2 = boxes[:, 3] + (deltas[:, 3] * std_[3] + mean_[3]) * height\n",
    "    for x1_, y1_, x2_, y2_, class_id in zip(x1, y1, x2, y2, class_ids):\n",
    "        x1_, y1_, x2_, y2_ = int(x1_), int(y1_), int(x2_), int(y2_)\n",
    "        cv2.rectangle(image, (x1_, y1_), (x2_, y2_), (0, 255, 0), 2)\n",
    "        class_name = train_generator.labels[class_id]\n",
    "        label = class_name\n",
    "        ret, baseline = cv2.getTextSize(label, cv2.FONT_HERSHEY_SIMPLEX, 0.3, 1)\n",
    "        cv2.rectangle(image, (x1_, y2_ - ret[1] - baseline), (x1_ + ret[0], y2_), (255, 255, 255), -1)\n",
    "        cv2.putText(image, label, (x1_, y2_ - baseline), cv2.FONT_HERSHEY_SIMPLEX, 0.5, (0, 0, 0), 1)\n",
    "    cv2.imshow('image', image.astype(np.uint8)[..., ::-1])\n",
    "    cv2.waitKey(0)\n",
    "    # 36864, 46080, 48384, 48960, 49104\n",
    "    # if first_valid_id < 36864:\n",
    "    #     stride = 8\n",
    "    # elif 36864 <= first_valid_id < 46080:\n",
    "    #     stride = 16\n",
    "    # elif 46080 <= first_valid_id < 48384:\n",
    "    #     stride = 32\n",
    "    # elif 48384 <= first_valid_id < 48960:\n",
    "    #     stride = 64\n",
    "    # else:\n",
    "    #     stride = 128\n",
    "    pass"
   ]
  }
 ],
 "metadata": {
  "kernelspec": {
   "display_name": "tensorflow2.0",
   "language": "python",
   "name": "tensorflow2.0"
  },
  "language_info": {
   "codemirror_mode": {
    "name": "ipython",
    "version": 3
   },
   "file_extension": ".py",
   "mimetype": "text/x-python",
   "name": "python",
   "nbconvert_exporter": "python",
   "pygments_lexer": "ipython3",
   "version": "3.5.2"
  }
 },
 "nbformat": 4,
 "nbformat_minor": 2
}
